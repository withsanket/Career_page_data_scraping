{
 "cells": [
  {
   "cell_type": "code",
   "execution_count": 20,
   "id": "68c1d5f6",
   "metadata": {},
   "outputs": [],
   "source": [
    "from selenium import webdriver\n",
    "from bs4 import BeautifulSoup\n",
    "from selenium.webdriver.chrome.service import Service\n",
    "import time\n",
    "\n",
    "s = Service(r\"C:\\Users\\withs\\7 Selenium\\chromedriver-win64\\chromedriver-win64\\chromedriver.exe\")\n",
    "base_url = \"https://www.merckgroup.com/en/careers/job-search.html?s=10&f={}\"\n",
    "\n",
    "Job_URL = []\n",
    "Date_Posted = []\n",
    "Job_Title = []\n",
    "Location = []\n",
    "Description = []        \n",
    "\n",
    "def Find_url(div_elements1):\n",
    "    for url in div_elements1:\n",
    "        try:\n",
    "            link = url.find('div', class_='se-list-job-item-title').find('a')['href']\n",
    "            Job_URL.append(link)\n",
    "        except (AttributeError, KeyError):\n",
    "            Job_URL.append(None)\n",
    "    return Job_URL\n",
    "\n",
    "def Find_date(div_elements1):\n",
    "    for dates in div_elements1:\n",
    "        try:\n",
    "            date_text = dates.find('p', class_='se-list-job-item-details').text\n",
    "            date = date_text.split('|')[0].strip()\n",
    "            Date_Posted.append(date)\n",
    "        except (AttributeError, IndexError):\n",
    "            Date_Posted.append(None)\n",
    "    return Date_Posted\n",
    "\n",
    "def Find_title(div_elements1):\n",
    "    for jobs in div_elements1:\n",
    "        try:\n",
    "            job_title = jobs.find('div', class_='se-list-job-item-title').find('a').text.strip()\n",
    "            Job_Title.append(job_title)\n",
    "        except AttributeError:\n",
    "            Job_Title.append(None)\n",
    "    return Job_Title\n",
    "\n",
    "def Find_location(div_elements1):\n",
    "    for loc in div_elements1:\n",
    "        try:\n",
    "            location = loc.find('p', class_='se-list-job-item-location').text.strip()\n",
    "            Location.append(location)\n",
    "        except AttributeError:\n",
    "            Location.append(None)\n",
    "    return Location\n",
    "\n",
    "try:\n",
    "    for page in range(0, 690, 10):\n",
    "        driver = webdriver.Chrome(service=s)  # Move this line inside the loop\n",
    "        url = base_url.format(page)\n",
    "        driver.get(url)\n",
    "\n",
    "        # Wait for some time to let the page load\n",
    "        driver.implicitly_wait(10)\n",
    "\n",
    "        # Get the updated HTML content\n",
    "        html_content = driver.page_source\n",
    "\n",
    "        # Create a BeautifulSoup object\n",
    "        soup = BeautifulSoup(html_content, \"html.parser\")\n",
    "\n",
    "        div_elements1 = soup.find_all(\"div\", class_=\"se-list-job-item-left\")\n",
    "\n",
    "        Job_URL = Find_url(div_elements1)\n",
    "        Date_Posted = Find_date(div_elements1)\n",
    "        Job_Title = Find_title(div_elements1)\n",
    "        Location = Find_location(div_elements1)\n",
    "        \n",
    "except Exception as e:\n",
    "    print(f\"An error occurred: {str(e)}\")\n",
    "finally:\n",
    "    driver.quit()  # Ensure that the driver is closed even in case of an exception\n"
   ]
  },
  {
   "cell_type": "code",
   "execution_count": 22,
   "id": "06e219aa",
   "metadata": {},
   "outputs": [
    {
     "name": "stdout",
     "output_type": "stream",
     "text": [
      "681\n",
      "681\n",
      "681\n",
      "681\n"
     ]
    }
   ],
   "source": [
    "import pandas as pd\n",
    "print(len(Job_URL))\n",
    "print(len(Date_Posted))\n",
    "print(len(Job_Title))\n",
    "print(len(Location))\n"
   ]
  },
  {
   "cell_type": "code",
   "execution_count": 23,
   "id": "dbec5111",
   "metadata": {},
   "outputs": [],
   "source": [
    "df = pd.DataFrame({\n",
    "    'Job_URL': Job_URL,\n",
    "    'Date_Posted': Date_Posted,\n",
    "    'Job_Title': Job_Title,\n",
    "    'Location': Location\n",
    "})"
   ]
  },
  {
   "cell_type": "code",
   "execution_count": 24,
   "id": "3b368277",
   "metadata": {},
   "outputs": [
    {
     "data": {
      "text/plain": [
       "<bound method DataFrame.info of                                                Job_URL         Date_Posted  \\\n",
       "0    https://www.merckgroup.com/en/careers/jobs/271...  Posted 16 Jan 2024   \n",
       "1    https://www.merckgroup.com/en/careers/jobs/271...  Posted 16 Jan 2024   \n",
       "2    https://www.merckgroup.com/en/careers/jobs/269...  Posted 16 Jan 2024   \n",
       "3    https://www.merckgroup.com/en/careers/jobs/271...  Posted 16 Jan 2024   \n",
       "4    https://www.merckgroup.com/en/careers/jobs/268...  Posted 16 Jan 2024   \n",
       "..                                                 ...                 ...   \n",
       "676  https://www.merckgroup.com/en/careers/jobs/264...  Posted 13 Jun 2023   \n",
       "677  https://www.merckgroup.com/en/careers/jobs/265...  Posted 05 Jun 2023   \n",
       "678  https://www.merckgroup.com/en/careers/jobs/264...  Posted 29 May 2023   \n",
       "679  https://www.merckgroup.com/en/careers/jobs/263...  Posted 04 May 2023   \n",
       "680  https://www.merckgroup.com/en/careers/jobs/263...  Posted 04 May 2023   \n",
       "\n",
       "                                             Job_Title  \\\n",
       "0                    Werkstudent  für Logistik (m/w/d)   \n",
       "1       Sourcing Manager Site Operations (all genders)   \n",
       "2                                        医药代表-心血管代谢-南宁   \n",
       "3             Sourcing Manager Logistics (all genders)   \n",
       "4                               Internship QA Training   \n",
       "..                                                 ...   \n",
       "676                                       实验室仪器售后服务工程师   \n",
       "677     Associate Scientific Director, Pharmacometrics   \n",
       "678                                              进出口专员   \n",
       "679  Mitarbeiter Abfüll- und Distributionszentrum -...   \n",
       "680                      Regulatory Affairs Specialist   \n",
       "\n",
       "                          Location  \n",
       "0       Gernsheim, Hessen, Germany  \n",
       "1    Wroclaw, Dolnoslaskie, Poland  \n",
       "2          Beijing, Beijing, China  \n",
       "3    Wroclaw, Dolnoslaskie, Poland  \n",
       "4       Aubonne, Vaud, Switzerland  \n",
       "..                             ...  \n",
       "676    Guangzhou, Guangdong, China  \n",
       "677    Bangalore, Karnataka, India  \n",
       "678         Suzhou, Jiangsu, China  \n",
       "679  Schnelldorf, Bavaria, Germany  \n",
       "680     Istanbul, Istanbul, Turkey  \n",
       "\n",
       "[681 rows x 4 columns]>"
      ]
     },
     "execution_count": 24,
     "metadata": {},
     "output_type": "execute_result"
    }
   ],
   "source": [
    "df.info"
   ]
  },
  {
   "cell_type": "code",
   "execution_count": 25,
   "id": "9e123d64",
   "metadata": {},
   "outputs": [],
   "source": [
    "df.to_csv(\"Merckgroup_Job.csv\")\n",
    "df.to_excel(\"Merckgroup_Job.xlsx\")"
   ]
  },
  {
   "cell_type": "code",
   "execution_count": null,
   "id": "0b51abad",
   "metadata": {},
   "outputs": [],
   "source": []
  }
 ],
 "metadata": {
  "kernelspec": {
   "display_name": "Python 3 (ipykernel)",
   "language": "python",
   "name": "python3"
  },
  "language_info": {
   "codemirror_mode": {
    "name": "ipython",
    "version": 3
   },
   "file_extension": ".py",
   "mimetype": "text/x-python",
   "name": "python",
   "nbconvert_exporter": "python",
   "pygments_lexer": "ipython3",
   "version": "3.11.5"
  }
 },
 "nbformat": 4,
 "nbformat_minor": 5
}
